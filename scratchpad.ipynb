{
  "cells": [
    {
      "cell_type": "markdown",
      "metadata": {
        "id": "view-in-github",
        "colab_type": "text"
      },
      "source": [
        "<a href=\"https://colab.research.google.com/github/catblue88/testing/blob/master/scratchpad.ipynb\" target=\"_parent\"><img src=\"https://colab.research.google.com/assets/colab-badge.svg\" alt=\"Open In Colab\"/></a>"
      ]
    },
    {
      "cell_type": "code",
      "execution_count": null,
      "metadata": {
        "id": "lIYdn1woOS1n"
      },
      "outputs": [],
      "source": [
        ""
      ]
    },
    {
      "cell_type": "markdown",
      "source": [
        ""
      ],
      "metadata": {
        "id": "Ozh0PM09Of_e"
      }
    },
    {
      "cell_type": "markdown",
      "source": [
        "## something from the paper...\n",
        "$$p(\\mathbf{Y}^{k}|\\mathbf{I},\\mathbf{C})=\\mathbf{\\Phi}(\\mathbf{I},\\mathbf{C})\n",
        "$$\n",
        "where ${\\Phi}$ is a neural network trained to resolve both semantic and positional uncertainties.  \n",
        "*yes, a nice piece :-)*\n",
        "\n",
        "\n"
      ],
      "metadata": {
        "id": "JS649LQjOg6D"
      }
    }
  ],
  "metadata": {
    "colab": {
      "name": "scratchpad",
      "provenance": [],
      "include_colab_link": true
    },
    "kernelspec": {
      "display_name": "Python 3",
      "name": "python3"
    }
  },
  "nbformat": 4,
  "nbformat_minor": 0
}